{
 "cells": [
  {
   "cell_type": "markdown",
   "id": "09f6dbb2-4107-4e2b-b71c-620325be63c6",
   "metadata": {},
   "source": [
    "# 2-TITLE"
   ]
  },
  {
   "cell_type": "markdown",
   "id": "3e2a612a-db0c-41e7-9548-55222ce94230",
   "metadata": {},
   "source": [
    "# Data Science Tools and Ecosystem"
   ]
  },
  {
   "cell_type": "markdown",
   "id": "3c2ccb56-510f-4b2d-b932-91a4cfcfc27c",
   "metadata": {},
   "source": [
    "## 3-INTRO"
   ]
  },
  {
   "cell_type": "markdown",
   "id": "96c7abdb-b2e7-4ce6-a1fe-c5667ffd1d86",
   "metadata": {},
   "source": [
    "In this notebook, Data Science Tools and Ecosystem are summarized."
   ]
  },
  {
   "cell_type": "markdown",
   "id": "3a25b8de-7ab1-429a-83d2-a6b1f54aaaa9",
   "metadata": {},
   "source": [
    "# 4-dslanguages"
   ]
  },
  {
   "attachments": {},
   "cell_type": "markdown",
   "id": "f11aca88-db6f-4e15-b63e-207380618bd9",
   "metadata": {},
   "source": [
    "Some of the popular languages that Data Scientists use are:\n",
    "\n",
    "1. Python\n",
    "2. R\n",
    "3. SQL\n",
    "4. Java\n",
    "5. Julia\n"
   ]
  },
  {
   "cell_type": "markdown",
   "id": "88ca0d09-db3b-4786-96b7-d77b316fd5e1",
   "metadata": {},
   "source": [
    "# 5-dslibraries"
   ]
  },
  {
   "cell_type": "markdown",
   "id": "27433a4d-b889-4b3b-afda-f128d8fe46cd",
   "metadata": {},
   "source": [
    "Some of the commonly used libraries used by Data Scientists include:\n",
    "\n",
    "1. Pandas\n",
    "2. NumPy\n",
    "3. Scikit-learn\n",
    "4. TensorFlow\n",
    "5. Matplotlib\n"
   ]
  },
  {
   "cell_type": "markdown",
   "id": "d497dfa5-2af8-47bf-b585-c6daa128be76",
   "metadata": {},
   "source": [
    "# 6-dstools"
   ]
  },
  {
   "cell_type": "raw",
   "id": "99020f1e-e486-4771-8fa2-02b7a4fffcb6",
   "metadata": {},
   "source": [
    "| Data Science Tools |\n",
    "|--------------------|\n",
    "| Jupyter Notebook  |\n",
    "| RStudio           |\n",
    "| Apache Zeppelin   |"
   ]
  },
  {
   "cell_type": "markdown",
   "id": "130a2135-68bb-4d8a-bfca-597fb815a62c",
   "metadata": {},
   "source": [
    "# 7-introarithmetic"
   ]
  },
  {
   "cell_type": "markdown",
   "id": "5817a4f5-15ba-4d42-91dc-609f2522ea90",
   "metadata": {},
   "source": [
    "### Below are a few examples of evaluating arithmetic expressions in Python."
   ]
  },
  {
   "cell_type": "markdown",
   "id": "a7be0ad4-b9ec-48c0-9335-137c22efd723",
   "metadata": {},
   "source": [
    "# 8-multiplyandaddintegers"
   ]
  },
  {
   "cell_type": "code",
   "execution_count": 4,
   "id": "6a845707-71b3-4026-9d31-fe823b4429f8",
   "metadata": {},
   "outputs": [
    {
     "data": {
      "text/plain": [
       "17"
      ]
     },
     "execution_count": 4,
     "metadata": {},
     "output_type": "execute_result"
    }
   ],
   "source": [
    "(3 * 4) + 5"
   ]
  },
  {
   "cell_type": "markdown",
   "id": "eda0ef51-65ee-4c01-9b01-6851e7013ff4",
   "metadata": {},
   "source": [
    "# 9-hourstominutes"
   ]
  },
  {
   "cell_type": "code",
   "execution_count": 5,
   "id": "848cc10b-a004-495c-baa3-8747f89f58ff",
   "metadata": {},
   "outputs": [
    {
     "data": {
      "text/plain": [
       "3.3333333333333335"
      ]
     },
     "execution_count": 5,
     "metadata": {},
     "output_type": "execute_result"
    }
   ],
   "source": [
    "200 / 60\n"
   ]
  },
  {
   "cell_type": "markdown",
   "id": "57e3aae5-59a1-4a5f-b83e-e3d19f788283",
   "metadata": {},
   "source": [
    "# 10-objectives"
   ]
  },
  {
   "cell_type": "markdown",
   "id": "599656fe-0c68-42f2-93e0-329bdb8542d3",
   "metadata": {},
   "source": [
    "**Objectives:**\n",
    "\n",
    "- List popular languages for Data Science\n",
    "- List commonly used libraries in Data Science\n",
    "- Describe commonly used Data Science tools\n",
    "- Evaluate arithmetic expressions in Python\n",
    "- Convert minutes to hours in Python"
   ]
  },
  {
   "cell_type": "markdown",
   "id": "331a9bc8-8747-4eed-8fb3-5a3960d03b96",
   "metadata": {},
   "source": [
    "# 11-authordetails"
   ]
  },
  {
   "cell_type": "markdown",
   "id": "86ddb400-2baf-4563-b96a-8049db1435fa",
   "metadata": {},
   "source": [
    "## Author\n",
    "\n",
    "KARIM MAROUANE\n"
   ]
  },
  {
   "cell_type": "code",
   "execution_count": null,
   "id": "7c6c4a69-3741-45ad-aeea-ddeee37710e7",
   "metadata": {},
   "outputs": [],
   "source": []
  }
 ],
 "metadata": {
  "kernelspec": {
   "display_name": "Python 3 (ipykernel)",
   "language": "python",
   "name": "python3"
  },
  "language_info": {
   "codemirror_mode": {
    "name": "ipython",
    "version": 3
   },
   "file_extension": ".py",
   "mimetype": "text/x-python",
   "name": "python",
   "nbconvert_exporter": "python",
   "pygments_lexer": "ipython3",
   "version": "3.11.8"
  }
 },
 "nbformat": 4,
 "nbformat_minor": 5
}
